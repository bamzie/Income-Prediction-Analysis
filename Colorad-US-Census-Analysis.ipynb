{
 "cells": [
  {
   "cell_type": "code",
   "execution_count": 12,
   "id": "df0f15c5",
   "metadata": {},
   "outputs": [
    {
     "data": {
      "text/html": [
       "<table>\n",
       "<thead><tr><th scope=col>X</th><th scope=col>FAMSIZE</th><th scope=col>SEX</th><th scope=col>AGE</th><th scope=col>MARRNO</th><th scope=col>RACE</th><th scope=col>YRSUSA1</th><th scope=col>EDUC</th><th scope=col>CLASSWKR</th><th scope=col>UHRSWORK</th><th scope=col>INCWAGE</th><th scope=col>POVERTY</th><th scope=col>OCCSCORE</th><th scope=col>DIFFSENS</th></tr></thead>\n",
       "<tbody>\n",
       "\t<tr><td>1                                       </td><td>1 family member present                 </td><td>Male                                    </td><td>22                                      </td><td>Not Applicable                          </td><td>White                                   </td><td>N/A or less than one year               </td><td>Grade 12                                </td><td>Works for wages                         </td><td>70                                      </td><td>31852                                   </td><td>N/A                                     </td><td>NA                                      </td><td>Has vision or hearing difficulty        </td></tr>\n",
       "\t<tr><td>2                                       </td><td>5                                       </td><td>Female                                  </td><td>58                                      </td><td>Married once                            </td><td>White                                   </td><td>N/A or less than one year               </td><td>Grade 12                                </td><td>Works for wages                         </td><td>25                                      </td><td>31852                                   </td><td>501 percent or more of poverty threshold</td><td>NA                                      </td><td>No vision or hearing difficulty         </td></tr>\n",
       "\t<tr><td>3                                       </td><td>5                                       </td><td>Male                                    </td><td>58                                      </td><td>Married once                            </td><td>White                                   </td><td>N/A or less than one year               </td><td>5+ years of college                     </td><td>Self-employed                           </td><td>20                                      </td><td>    0                                   </td><td>501 percent or more of poverty threshold</td><td>NA                                      </td><td>No vision or hearing difficulty         </td></tr>\n",
       "\t<tr><td>4                                       </td><td>5                                       </td><td>Female                                  </td><td>34                                      </td><td>Married once                            </td><td>White                                   </td><td>N/A or less than one year               </td><td>5+ years of college                     </td><td>Works for wages                         </td><td>40                                      </td><td>53086                                   </td><td>501 percent or more of poverty threshold</td><td>NA                                      </td><td>No vision or hearing difficulty         </td></tr>\n",
       "\t<tr><td>5                                       </td><td>5                                       </td><td>Male                                    </td><td>39                                      </td><td>Married once                            </td><td>White                                   </td><td>N/A or less than one year               </td><td>5+ years of college                     </td><td>Works for wages                         </td><td>40                                      </td><td>44593                                   </td><td>501 percent or more of poverty threshold</td><td>NA                                      </td><td>No vision or hearing difficulty         </td></tr>\n",
       "\t<tr><td>6                                       </td><td>2 family members present                </td><td>Female                                  </td><td>60                                      </td><td>Married once                            </td><td>White                                   </td><td>N/A or less than one year               </td><td>4 years of college                      </td><td>Works for wages                         </td><td>45                                      </td><td>47778                                   </td><td>501 percent or more of poverty threshold</td><td>NA                                      </td><td>No vision or hearing difficulty         </td></tr>\n",
       "</tbody>\n",
       "</table>\n"
      ],
      "text/latex": [
       "\\begin{tabular}{r|llllllllllllll}\n",
       " X & FAMSIZE & SEX & AGE & MARRNO & RACE & YRSUSA1 & EDUC & CLASSWKR & UHRSWORK & INCWAGE & POVERTY & OCCSCORE & DIFFSENS\\\\\n",
       "\\hline\n",
       "\t 1                                        & 1 family member present                  & Male                                     & 22                                       & Not Applicable                           & White                                    & N/A or less than one year                & Grade 12                                 & Works for wages                          & 70                                       & 31852                                    & N/A                                      & NA                                       & Has vision or hearing difficulty        \\\\\n",
       "\t 2                                        & 5                                        & Female                                   & 58                                       & Married once                             & White                                    & N/A or less than one year                & Grade 12                                 & Works for wages                          & 25                                       & 31852                                    & 501 percent or more of poverty threshold & NA                                       & No vision or hearing difficulty         \\\\\n",
       "\t 3                                        & 5                                        & Male                                     & 58                                       & Married once                             & White                                    & N/A or less than one year                & 5+ years of college                      & Self-employed                            & 20                                       &     0                                    & 501 percent or more of poverty threshold & NA                                       & No vision or hearing difficulty         \\\\\n",
       "\t 4                                        & 5                                        & Female                                   & 34                                       & Married once                             & White                                    & N/A or less than one year                & 5+ years of college                      & Works for wages                          & 40                                       & 53086                                    & 501 percent or more of poverty threshold & NA                                       & No vision or hearing difficulty         \\\\\n",
       "\t 5                                        & 5                                        & Male                                     & 39                                       & Married once                             & White                                    & N/A or less than one year                & 5+ years of college                      & Works for wages                          & 40                                       & 44593                                    & 501 percent or more of poverty threshold & NA                                       & No vision or hearing difficulty         \\\\\n",
       "\t 6                                        & 2 family members present                 & Female                                   & 60                                       & Married once                             & White                                    & N/A or less than one year                & 4 years of college                       & Works for wages                          & 45                                       & 47778                                    & 501 percent or more of poverty threshold & NA                                       & No vision or hearing difficulty         \\\\\n",
       "\\end{tabular}\n"
      ],
      "text/markdown": [
       "\n",
       "| X | FAMSIZE | SEX | AGE | MARRNO | RACE | YRSUSA1 | EDUC | CLASSWKR | UHRSWORK | INCWAGE | POVERTY | OCCSCORE | DIFFSENS |\n",
       "|---|---|---|---|---|---|---|---|---|---|---|---|---|---|\n",
       "| 1                                        | 1 family member present                  | Male                                     | 22                                       | Not Applicable                           | White                                    | N/A or less than one year                | Grade 12                                 | Works for wages                          | 70                                       | 31852                                    | N/A                                      | NA                                       | Has vision or hearing difficulty         |\n",
       "| 2                                        | 5                                        | Female                                   | 58                                       | Married once                             | White                                    | N/A or less than one year                | Grade 12                                 | Works for wages                          | 25                                       | 31852                                    | 501 percent or more of poverty threshold | NA                                       | No vision or hearing difficulty          |\n",
       "| 3                                        | 5                                        | Male                                     | 58                                       | Married once                             | White                                    | N/A or less than one year                | 5+ years of college                      | Self-employed                            | 20                                       |     0                                    | 501 percent or more of poverty threshold | NA                                       | No vision or hearing difficulty          |\n",
       "| 4                                        | 5                                        | Female                                   | 34                                       | Married once                             | White                                    | N/A or less than one year                | 5+ years of college                      | Works for wages                          | 40                                       | 53086                                    | 501 percent or more of poverty threshold | NA                                       | No vision or hearing difficulty          |\n",
       "| 5                                        | 5                                        | Male                                     | 39                                       | Married once                             | White                                    | N/A or less than one year                | 5+ years of college                      | Works for wages                          | 40                                       | 44593                                    | 501 percent or more of poverty threshold | NA                                       | No vision or hearing difficulty          |\n",
       "| 6                                        | 2 family members present                 | Female                                   | 60                                       | Married once                             | White                                    | N/A or less than one year                | 4 years of college                       | Works for wages                          | 45                                       | 47778                                    | 501 percent or more of poverty threshold | NA                                       | No vision or hearing difficulty          |\n",
       "\n"
      ],
      "text/plain": [
       "  X FAMSIZE                  SEX    AGE MARRNO         RACE \n",
       "1 1 1 family member present  Male   22  Not Applicable White\n",
       "2 2 5                        Female 58  Married once   White\n",
       "3 3 5                        Male   58  Married once   White\n",
       "4 4 5                        Female 34  Married once   White\n",
       "5 5 5                        Male   39  Married once   White\n",
       "6 6 2 family members present Female 60  Married once   White\n",
       "  YRSUSA1                   EDUC                CLASSWKR        UHRSWORK\n",
       "1 N/A or less than one year Grade 12            Works for wages 70      \n",
       "2 N/A or less than one year Grade 12            Works for wages 25      \n",
       "3 N/A or less than one year 5+ years of college Self-employed   20      \n",
       "4 N/A or less than one year 5+ years of college Works for wages 40      \n",
       "5 N/A or less than one year 5+ years of college Works for wages 40      \n",
       "6 N/A or less than one year 4 years of college  Works for wages 45      \n",
       "  INCWAGE POVERTY                                  OCCSCORE\n",
       "1 31852   N/A                                      NA      \n",
       "2 31852   501 percent or more of poverty threshold NA      \n",
       "3     0   501 percent or more of poverty threshold NA      \n",
       "4 53086   501 percent or more of poverty threshold NA      \n",
       "5 44593   501 percent or more of poverty threshold NA      \n",
       "6 47778   501 percent or more of poverty threshold NA      \n",
       "  DIFFSENS                        \n",
       "1 Has vision or hearing difficulty\n",
       "2 No vision or hearing difficulty \n",
       "3 No vision or hearing difficulty \n",
       "4 No vision or hearing difficulty \n",
       "5 No vision or hearing difficulty \n",
       "6 No vision or hearing difficulty "
      ]
     },
     "metadata": {},
     "output_type": "display_data"
    },
    {
     "data": {
      "text/plain": [
       "       X                              FAMSIZE          SEX        \n",
       " Min.   :     1   2 family members present:77566   Female:108388  \n",
       " 1st Qu.: 53532   1 family member present :51766   Male  :105736  \n",
       " Median :107062   3                       :32527                  \n",
       " Mean   :107062   4                       :29562                  \n",
       " 3rd Qu.:160593   5                       :13455                  \n",
       " Max.   :214124   6                       : 5428                  \n",
       "                  (Other)                 : 3820                  \n",
       "      AGE                              MARRNO      \n",
       " 55     :  4091   Married once            :118536  \n",
       " 56     :  4064   Married thrice (or more):  9202  \n",
       " 60     :  4042   Married twice (or more) : 33253  \n",
       " 57     :  4039   Not Applicable          : 53133  \n",
       " 54     :  3906                                    \n",
       " 61     :  3899                                    \n",
       " (Other):190083                                    \n",
       "                               RACE                             YRSUSA1      \n",
       " White                           :188559   N/A or less than one year:191365  \n",
       " Black/African American/Negro    :  6360   17                       :   796  \n",
       " Other race, nec                 :  5740   18                       :   788  \n",
       " Other Asian or Pacific Islander :  4640   16                       :   744  \n",
       " Two major races                 :  4504   15                       :   740  \n",
       " American Indian or Alaska Native:  1972   19                       :   707  \n",
       " (Other)                         :  2349   (Other)                  : 18984  \n",
       "                  EDUC                  CLASSWKR         UHRSWORK    \n",
       " Grade 12           :65690   N/A            : 46281   N/A    :64549  \n",
       " 4 years of college :52026   Self-employed  : 21304   40     :60770  \n",
       " 1 year of college  :34702   Works for wages:146539   50     :14639  \n",
       " 5+ years of college:31146                            45     :10616  \n",
       " 2 years of college :17181                            30     : 7330  \n",
       " Grade 11           : 3717                            20     : 6764  \n",
       " (Other)            : 9662                            (Other):49456  \n",
       "    INCWAGE                                           POVERTY      \n",
       " Min.   :     0   501 percent or more of poverty threshold: 76162  \n",
       " 1st Qu.:     0   N/A                                     :  8731  \n",
       " Median : 16638   1 percent or less of poverty threshold  :  3083  \n",
       " Mean   : 35384   284                                     :   491  \n",
       " 3rd Qu.: 50876   162                                     :   487  \n",
       " Max.   :508091   243                                     :   455  \n",
       "                  (Other)                                 :124715  \n",
       " OCCSCORE                                   DIFFSENS     \n",
       " Mode:logical   Has vision or hearing difficulty: 14822  \n",
       " NA's:214124    No vision or hearing difficulty :199302  \n",
       "                                                         \n",
       "                                                         \n",
       "                                                         \n",
       "                                                         \n",
       "                                                         "
      ]
     },
     "metadata": {},
     "output_type": "display_data"
    }
   ],
   "source": [
    "library(dplyr)\n",
    "library(tidyr)\n",
    "library(ggplot2)\n",
    "library(gridExtra)\n",
    "library(corrplot)\n",
    "library(tidyverse)\n",
    "library(leaps)\n",
    "\n",
    "\n",
    "\n",
    "consensus_2018 = read.table(\"cleaned_acs_2018.csv\", sep = \",\", header = TRUE)\n",
    "ca = filter(consensus_2018, STATEFIP == \"Colorado\")\n",
    "#INCWAGE IS RESPONSE\n",
    "co = select(ca, -c(YEAR, RACED, EDUCD, CLASSWKRD, STATEFIP))\n",
    "head(co)\n",
    "summary(co)"
   ]
  },
  {
   "cell_type": "code",
   "execution_count": 16,
   "id": "6b352bbc",
   "metadata": {
    "scrolled": false
   },
   "outputs": [
    {
     "data": {
      "text/html": [
       "'factor'"
      ],
      "text/latex": [
       "'factor'"
      ],
      "text/markdown": [
       "'factor'"
      ],
      "text/plain": [
       "[1] \"factor\""
      ]
     },
     "metadata": {},
     "output_type": "display_data"
    },
    {
     "ename": "ERROR",
     "evalue": "Error in hist.default(co$AGE, main = \"Age\", xlab = \"age\"): 'x' must be numeric\n",
     "output_type": "error",
     "traceback": [
      "Error in hist.default(co$AGE, main = \"Age\", xlab = \"age\"): 'x' must be numeric\nTraceback:\n",
      "1. hist(co$AGE, main = \"Age\", xlab = \"age\")",
      "2. hist.default(co$AGE, main = \"Age\", xlab = \"age\")",
      "3. stop(\"'x' must be numeric\")"
     ]
    }
   ],
   "source": [
    "# col4 = colorRampPalette(c(\"black\", \"darkgrey\", \"grey\",\"#CFB87C\"))\n",
    "# corrplot(cor(co[c(1:11)]), method = \"ellipse\", col = col4(100),  addCoef.col = \"black\", tl.col = \"black\")\n",
    "\n",
    "class(co$AGE)\n",
    "par(mfrow = c(2,2))\n",
    "\n",
    "hist(co$AGE, main = \"Age\", xlab = 'age') \n",
    "\n",
    "\n"
   ]
  },
  {
   "cell_type": "code",
   "execution_count": null,
   "id": "dd70a140",
   "metadata": {
    "scrolled": false
   },
   "outputs": [],
   "source": [
    "library(MASS)\n",
    "\n",
    "co$MARST = as_factor(co$MARST)\n",
    "co$EDUC = as_factor(co$EDUC)\n",
    "co$CLASSWKR = as_factor(co$CLASSWKR)\n",
    "co$DIFFSENS = as_factor(co$DIFFSENS)\n",
    "co$SEX = as_factor(co$SEX)\n",
    "co$RACE = as_factor(co$RACE)\n",
    "\n",
    "lmod_co = lm(INCWAGE ~ ., co)\n",
    "summary(lmod_co)\n",
    "\n",
    "n = dim(co)[1]; \n",
    "dim(co)[2]\n",
    "regCO = regsubsets(INCWAGE ~ ., data = co)\n",
    "rs = summary(regCO)\n",
    "view(rs$which)\n",
    "\n",
    "AIC = 2*(2:32) + n*log(rs$rss/n)\n",
    "plot(AIC ~ I(1:31), xlab = 'number of predictors', ylab = 'AIC')"
   ]
  },
  {
   "cell_type": "code",
   "execution_count": null,
   "id": "36ee9f8c",
   "metadata": {
    "scrolled": false
   },
   "outputs": [],
   "source": [
    "glmod_CO = glm(INCWAGE ~., co, family = gaussian)\n",
    "summary(glmod_CO)\n",
    "par(mfrow = c(2,2))\n",
    "plot(glmod_CO)"
   ]
  },
  {
   "cell_type": "code",
   "execution_count": null,
   "id": "99b15451",
   "metadata": {},
   "outputs": [],
   "source": []
  }
 ],
 "metadata": {
  "kernelspec": {
   "display_name": "R",
   "language": "R",
   "name": "ir"
  },
  "language_info": {
   "codemirror_mode": "r",
   "file_extension": ".r",
   "mimetype": "text/x-r-source",
   "name": "R",
   "pygments_lexer": "r",
   "version": "3.6.1"
  }
 },
 "nbformat": 4,
 "nbformat_minor": 5
}

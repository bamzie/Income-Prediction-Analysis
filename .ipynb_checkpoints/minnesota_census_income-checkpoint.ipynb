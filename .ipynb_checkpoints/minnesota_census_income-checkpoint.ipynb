{
 "cells": [
  {
   "cell_type": "markdown",
   "id": "6e7938d7",
   "metadata": {},
   "source": [
    "# Import Dataset"
   ]
  },
  {
   "cell_type": "code",
   "execution_count": 2,
   "id": "bdc24d63",
   "metadata": {
    "scrolled": false
   },
   "outputs": [
    {
     "name": "stderr",
     "output_type": "stream",
     "text": [
      "\n",
      "Attaching package: ‘dplyr’\n",
      "\n",
      "The following objects are masked from ‘package:stats’:\n",
      "\n",
      "    filter, lag\n",
      "\n",
      "The following objects are masked from ‘package:base’:\n",
      "\n",
      "    intersect, setdiff, setequal, union\n",
      "\n",
      "Registered S3 methods overwritten by 'ggplot2':\n",
      "  method         from \n",
      "  [.quosures     rlang\n",
      "  c.quosures     rlang\n",
      "  print.quosures rlang\n",
      "------------------------------------------------------------------------------\n",
      "You have loaded plyr after dplyr - this is likely to cause problems.\n",
      "If you need functions from both plyr and dplyr, please load plyr first, then dplyr:\n",
      "library(plyr); library(dplyr)\n",
      "------------------------------------------------------------------------------\n",
      "\n",
      "Attaching package: ‘plyr’\n",
      "\n",
      "The following objects are masked from ‘package:dplyr’:\n",
      "\n",
      "    arrange, count, desc, failwith, id, mutate, rename, summarise,\n",
      "    summarize\n",
      "\n",
      "\n",
      "Attaching package: ‘zoo’\n",
      "\n",
      "The following objects are masked from ‘package:base’:\n",
      "\n",
      "    as.Date, as.Date.numeric\n",
      "\n",
      "\n",
      "Attaching package: ‘gridExtra’\n",
      "\n",
      "The following object is masked from ‘package:dplyr’:\n",
      "\n",
      "    combine\n",
      "\n",
      "Registered S3 method overwritten by 'rvest':\n",
      "  method            from\n",
      "  read_xml.response xml2\n",
      "── Attaching packages ─────────────────────────────────────── tidyverse 1.2.1 ──\n",
      "✔ tibble  2.1.1     ✔ purrr   0.3.2\n",
      "✔ readr   1.3.1     ✔ stringr 1.4.0\n",
      "✔ tibble  2.1.1     ✔ forcats 0.4.0\n",
      "── Conflicts ────────────────────────────────────────── tidyverse_conflicts() ──\n",
      "✖ plyr::arrange()      masks dplyr::arrange()\n",
      "✖ gridExtra::combine() masks dplyr::combine()\n",
      "✖ purrr::compact()     masks plyr::compact()\n",
      "✖ plyr::count()        masks dplyr::count()\n",
      "✖ plyr::failwith()     masks dplyr::failwith()\n",
      "✖ dplyr::filter()      masks stats::filter()\n",
      "✖ plyr::id()           masks dplyr::id()\n",
      "✖ dplyr::lag()         masks stats::lag()\n",
      "✖ plyr::mutate()       masks dplyr::mutate()\n",
      "✖ plyr::rename()       masks dplyr::rename()\n",
      "✖ plyr::summarise()    masks dplyr::summarise()\n",
      "✖ plyr::summarize()    masks dplyr::summarize()\n",
      "Loading required package: carData\n",
      "\n",
      "Attaching package: ‘car’\n",
      "\n",
      "The following object is masked from ‘package:purrr’:\n",
      "\n",
      "    some\n",
      "\n",
      "The following object is masked from ‘package:dplyr’:\n",
      "\n",
      "    recode\n",
      "\n",
      "corrplot 0.84 loaded\n",
      "Warning message in file(file, \"rt\"):\n",
      "“cannot open file 'usa_00007.csv': No such file or directory”"
     ]
    },
    {
     "ename": "ERROR",
     "evalue": "Error in file(file, \"rt\"): cannot open the connection\n",
     "output_type": "error",
     "traceback": [
      "Error in file(file, \"rt\"): cannot open the connection\nTraceback:\n",
      "1. read.table(\"usa_00007.csv\", sep = \",\", header = TRUE)",
      "2. file(file, \"rt\")"
     ]
    }
   ],
   "source": [
    "library(dplyr)\n",
    "library(ggplot2)\n",
    "library(plyr)\n",
    "library(zoo)\n",
    "library(tidyr)\n",
    "library(ggplot2)\n",
    "library(gridExtra)\n",
    "library(tidyverse)\n",
    "library(leaps)\n",
    "library(car)\n",
    "library(corrplot)\n",
    "\n",
    "acs_2018 = read.table(\"usa_00007.csv\", sep = \",\", header = TRUE)\n",
    "acs_2018_1 = read.table(\"cleaned_acs_2018.csv\", sep = \",\", header = TRUE)\n",
    "\n",
    "# Filter state to Minnesota\n",
    "minn = filter(acs_2018, STATEFIP == '27')\n",
    "minn1 = filter(acs_2018_1, STATEFIP == 'Minnesota')\n",
    "#head(minn)\n",
    "minn = data.frame(minn)\n",
    "head(minn)\n",
    "\n",
    "summary(minn)"
   ]
  },
  {
   "cell_type": "markdown",
   "id": "054ed064",
   "metadata": {},
   "source": [
    "# Cleaning Dataset"
   ]
  },
  {
   "cell_type": "code",
   "execution_count": null,
   "id": "6166bad2",
   "metadata": {
    "scrolled": false
   },
   "outputs": [],
   "source": [
    "# Utilized R Studio in order to use ipumsr package to relabel values to the actual labels\n",
    "# i.e, SEX values 1 will be changed to Male\n",
    "minn$MARST = minn1$MARST\n",
    "minn$CLASSWKR = minn1$CLASSWKR\n",
    "minn$DIFFSENS = minn1$DIFFSENS\n",
    "minn$SEX = minn1$SEX\n",
    "\n",
    "# Grouping Chinese, Japanese, Other Asian, and Pacific Islander to Asian American\n",
    "minn$RACE[minn$RACE == 1] = \"White\"\n",
    "minn$RACE[minn$RACE == 2] = \"Black/African American\"\n",
    "minn$RACE[minn$RACE == 3] = \"American Indian or Alaska Native\"\n",
    "minn$RACE[minn$RACE == 4] = \"Asian American or Pacific Islander\"\n",
    "minn$RACE[minn$RACE == 5] = \"Asian American or Pacific Islander\"\n",
    "minn$RACE[minn$RACE == 6] = \"Asian American or Pacific Islander\"\n",
    "minn$RACE[minn$RACE == 7] = \"Other Race\"\n",
    "minn$RACE[minn$RACE == 8] = \"Other Race\"\n",
    "minn$RACE[minn$RACE == 9] = \"Other Race\"\n",
    "\n",
    "# Grouping Education Levels\n",
    "minn$EDUC[minn$EDUC == 0] = \"High School or Less\"\n",
    "minn$EDUC[minn$EDUC == 1] = \"High School or Less\"\n",
    "minn$EDUC[minn$EDUC == 2] = \"High School or Less\"\n",
    "minn$EDUC[minn$EDUC == 3] = \"High School or Less\"\n",
    "minn$EDUC[minn$EDUC == 4] = \"High School or Less\"\n",
    "minn$EDUC[minn$EDUC == 5] = \"High School or Less\"\n",
    "minn$EDUC[minn$EDUC == 6] = \"High School or Less\"\n",
    "minn$EDUC[minn$EDUC == 7] = \"College or More\"\n",
    "minn$EDUC[minn$EDUC == 8] = \"College or More\"\n",
    "minn$EDUC[minn$EDUC == 9] = \"College or More\"\n",
    "minn$EDUC[minn$EDUC == 10] = \"College or More\"\n",
    "minn$EDUC[minn$EDUC == 11] = \"College or More\"\n",
    "\n",
    "# Changing 0 to NA, this is because of the IPUMS package used in R Studio changed the NA values to 0\n",
    "minn$YRSUSA1[minn$YRSUSA1 == 0] = NA\n",
    "\n",
    "# FAMSIZE, AGE, MARRNO, YRSUSA1, UHRSWORK, INCWAGE, OCCSCORE are continuous"
   ]
  },
  {
   "cell_type": "code",
   "execution_count": null,
   "id": "b96ca0b5",
   "metadata": {
    "scrolled": false
   },
   "outputs": [],
   "source": [
    "mn = select(minn, -c(YEAR, STATEFIP, RACED, CLASSWKRD, EDUCD, POVERTY))\n",
    "head(mn)"
   ]
  },
  {
   "cell_type": "markdown",
   "id": "9169aa71",
   "metadata": {},
   "source": [
    "# Exploratory Analysis"
   ]
  },
  {
   "cell_type": "code",
   "execution_count": null,
   "id": "5c2eed03",
   "metadata": {
    "scrolled": false
   },
   "outputs": [],
   "source": [
    "# Exploratory Data Analysis\n",
    "\n",
    "# Histograms for numeric values\n",
    "age_hist <- ggplot(mn, aes(x = mn$AGE)) +\n",
    "    geom_histogram(color=\"grey3\", alpha=0.6, stat = 'count') +\n",
    "    theme(axis.text.x = element_text(angle = 90, vjust = 0.5)) + \n",
    "    scale_fill_manual(values=c(\"#69b3a2\")) + xlab(\"Age\") + \n",
    "    ylab(\"Frequency\") + labs(fill = \"\") + theme(legend.position = \"none\")\n",
    "\n",
    "famsize_hist <- ggplot(mn, aes(x = mn$FAMSIZE)) +\n",
    "    geom_histogram(color=\"grey3\", alpha=0.6, stat = 'count') +\n",
    "    theme(axis.text.x = element_text(angle = 90, vjust = 0.5)) + \n",
    "    scale_fill_manual(values=c(\"#69b3a2\")) + xlab(\"Family Size\") + \n",
    "    ylab(\"Frequency\") + labs(fill = \"\") + theme(legend.position = \"none\")\n",
    "\n",
    "hours_hist <- ggplot(mn, aes(x = mn$UHRSWORK)) +\n",
    "    geom_histogram(color=\"grey3\", alpha=0.6, stat = 'count') +\n",
    "    theme(axis.text.x = element_text(angle = 90, vjust = 0.5)) + \n",
    "    scale_fill_manual(values=c(\"#69b3a2\")) + xlab(\"Hours Worked per Week\") + \n",
    "    ylab(\"Frequency\") + labs(fill = \"\") + theme(legend.position = \"none\")\n",
    "\n",
    "edu_hist <- ggplot(mn, aes(x = mn$EDUC)) +\n",
    "    geom_histogram(color=\"grey3\", alpha=0.6, stat = 'count') +\n",
    "    theme(axis.text.x = element_text(angle = 90, vjust = 0.1)) + \n",
    "    scale_fill_manual(values=c(\"#69b3a2\")) + xlab(\"Educational Attainment\") + \n",
    "    ylab(\"Frequency\") + labs(fill = \"\") + theme(legend.position = \"none\")\n",
    "\n",
    "inc_hist <- ggplot(mn, aes(x = mn$INCWAGE)) +\n",
    "    geom_histogram(color=\"grey3\", alpha=0.6, stat = 'count') +\n",
    "    theme(axis.text.x = element_text(angle = 90, vjust = 0.5)) + \n",
    "    scale_fill_manual(values=c(\"#69b3a2\")) + xlab(\"Total Individual Income/Wage\") + \n",
    "    ylab(\"Frequency\") + labs(fill = \"\") + theme(legend.position = \"none\")\n",
    "\n",
    "occ_hist <- ggplot(mn, aes(x = mn$OCCSCORE)) +\n",
    "    geom_histogram(color=\"grey3\", alpha=0.6, stat = 'count') +\n",
    "    theme(axis.text.x = element_text(angle = 90, vjust = 0.5)) + \n",
    "    scale_fill_manual(values=c(\"#69b3a2\")) + xlab(\"Occupational Score\") + \n",
    "    ylab(\"Frequency\") + labs(fill = \"\") + theme(legend.position = \"none\")\n",
    "\n",
    "years_hist <- ggplot(mn, aes(x = mn$YRSUSA1)) +\n",
    "    geom_histogram(color=\"grey3\", alpha=0.6, stat = 'count') +\n",
    "    theme(axis.text.x = element_text(angle = 90, vjust = 0.5)) + \n",
    "    scale_fill_manual(values=c(\"#69b3a2\")) + xlab(\"Years in US\") + \n",
    "    ylab(\"Frequency\") + labs(fill = \"\") + theme(legend.position = \"none\")\n",
    "grid.arrange(inc_hist, occ_hist, age_hist, famsize_hist, \n",
    "             hours_hist, years_hist, nrow=4)\n",
    "\n",
    "edu_hist"
   ]
  },
  {
   "cell_type": "code",
   "execution_count": null,
   "id": "d53c2629",
   "metadata": {},
   "outputs": [],
   "source": [
    "plot1 <- ggplot(mn, aes(y = mn$INCWAGE, x = mn$AGE)) + \n",
    "  geom_point(color = 'black') + xlab('Age') + ylab('INCWAGE') + \n",
    "  stat_smooth(method = \"lm\", col = \"black\")\n",
    "\n",
    "plot2 <- ggplot(mn, aes(y = mn$INCWAGE, x = mn$FAMSIZE)) + \n",
    "  geom_point(color = 'blue') + xlab('Family Size') + ylab('INCWAGE') + \n",
    "  stat_smooth(method = \"lm\", col = \"black\")\n",
    "\n",
    "plot3 <- ggplot(mn, aes(y = mn$INCWAGE, x = mn$UHRSWORK)) + \n",
    "  geom_point(color = 'gold') + xlab('Hours Works Per Week') + ylab('INCWAGE') + \n",
    "  stat_smooth(method = \"lm\", col = \"black\")\n",
    "\n",
    "plot4 <- ggplot(mn, aes(y = mn$INCWAGE, x = mn$OCCSCORE)) + \n",
    "  geom_point(color = 'purple') + xlab('Occscore') + ylab('INCWAGE') + \n",
    "  stat_smooth(method = \"lm\", col = \"black\")\n",
    "\n",
    "plot5 <- ggplot(mn, aes(y = mn$INCWAGE, x = mn$YRSUSA1)) + \n",
    "  geom_point(color = 'grey') + xlab('Years in the US') + ylab('INCWAGE') + \n",
    "  stat_smooth(method = \"lm\", col = \"black\")\n",
    "\n",
    "grid.arrange(plot1, plot2, plot3, plot4, plot5, nrow = 3, ncol = 2)"
   ]
  },
  {
   "cell_type": "code",
   "execution_count": null,
   "id": "5bec0be7",
   "metadata": {
    "scrolled": false
   },
   "outputs": [],
   "source": [
    "col4 = colorRampPalette(c(\"black\", \"darkgrey\", \"grey\",\"#CFB87C\"))\n",
    "corrplot(cor(mn[,c(1, 3, 4, 9, 10, 11)]), \n",
    "         method = \"ellipse\", col = col4(100), addCoef.col = \"black\", tl.col = \"black\")"
   ]
  },
  {
   "cell_type": "markdown",
   "id": "6dba584d",
   "metadata": {},
   "source": [
    "# AIC and BIC Graphs"
   ]
  },
  {
   "cell_type": "code",
   "execution_count": null,
   "id": "5dbd1f8d",
   "metadata": {
    "scrolled": false
   },
   "outputs": [],
   "source": [
    "# corr = cor(model.matrix(lmod_co)[,-1])\n",
    "\n",
    "n = dim(mn)[1]; \n",
    "regmn = regsubsets(INCWAGE ~ ., data = mn)\n",
    "rs = summary(regmn)\n",
    "rs$which\n",
    "\n",
    "AIC = 2*(2:9) + n*log(rs$rss/n)\n",
    "plot(AIC ~ I(1:8), xlab = 'number of predictors', ylab = 'AIC', main = \"AIC Graph\")\n",
    "\n",
    "# Best predictors in terms of AIC\n",
    "# 8 predictors - SEX, AGE, MARRNO, EDUC, CLASSWKR, UHRSWORK, OCCSCORE, DIFFSENS\n",
    "# 7 predictors - SEX, AGE, EDUC, CLASSWKR, UHRSWORK, OCCSCORE, DIFFSENS\n",
    "# 6 predictors - AGE, EDUC, CLASSWKR, UHRSWORK, OCCSCORE, DIFFSENS\n",
    "\n",
    "BIC = log(n)*(2:9) + n*log(rs$rss/n) \n",
    "plot(BIC ~ I(1:8), xlab = \"number of predictors\", ylab = \"BIC\", main = \"BIC\")\n",
    "\n",
    "# Best predictors in terms of BIC\n",
    "# 8 predictors - SEX, AGE, MARRNO, EDUC, CLASSWKR, UHRSWORK, OCCSCORE, DIFFSENS\n",
    "# 7 predictors - SEX, AGE, EDUC, CLASSWKR, UHRSWORK, OCCSCORE, DIFFSENS\n",
    "# 6 predictors - AGE, EDUC, CLASSWKR, UHRSWORK, OCCSCORE, DIFFSENS"
   ]
  },
  {
   "cell_type": "code",
   "execution_count": null,
   "id": "5e431984",
   "metadata": {
    "scrolled": false
   },
   "outputs": [],
   "source": [
    "lm_1 = lm(INCWAGE ~ AGE + EDUC + CLASSWKR + UHRSWORK + OCCSCORE + DIFFSENS , mn)\n",
    "lm_2 = lm(INCWAGE ~ SEX+ AGE + EDUC + CLASSWKR + UHRSWORK + OCCSCORE + DIFFSENS, mn)\n",
    "lm_3 = lm(INCWAGE ~ SEX+ AGE + MARRNO + EDUC + CLASSWKR + UHRSWORK + OCCSCORE + DIFFSENS + RACE, mn)\n",
    "\n",
    "anova(lm_1, lm_2)\n",
    "anova(lm_2, lm_3)\n",
    "\n",
    "lm_diag1 = data.frame(yhat = fitted(lm_1), r = resid(lm_1), y = mn$INCWAGE)\n",
    "lm_diag2 = data.frame(yhat = fitted(lm_2), r = resid(lm_2), y = mn$INCWAGE)\n",
    "lm_diag3 = data.frame(yhat = fitted(lm_3), r = resid(lm_3), y = mn$INCWAGE)\n",
    "\n",
    "options(repr.plot.width = 6, repr.plot.width = 6)\n",
    "lm1 = ggplot(lm_diag1, aes(x = y, y = yhat)) + \n",
    "    geom_point(alpha =0.5, col = 'deepskyblue') + \n",
    "    geom_smooth(se = F, col = \"#CFB87C\") + \n",
    "    xlab(\"Observed\") + \n",
    "    ylab(\"Fitted\") + \n",
    "    ggtitle(\"Linear Model 1\") +\n",
    "    theme_bw()\n",
    "\n",
    "lm2 = ggplot(lm_diag2, aes(x = y, y = yhat)) + \n",
    "    geom_point(alpha =0.5, col = 'deepskyblue') + \n",
    "    geom_smooth(se = F, col = \"#CFB87C\") + \n",
    "    xlab(\"Observed\") + \n",
    "    ylab(\"Fitted\") + \n",
    "    ggtitle(\"Linear Model 2\") +\n",
    "    theme_bw()\n",
    "\n",
    "lm3 = ggplot(lm_diag3, aes(x = y, y = yhat)) + \n",
    "    geom_point(alpha =0.5, col = 'deepskyblue') + \n",
    "    geom_smooth(se = F, col = \"#CFB87C\") + \n",
    "    xlab(\"Observed\") + \n",
    "    ylab(\"Fitted\") + \n",
    "    ggtitle(\"Linear Model 3\") +\n",
    "    theme_bw()\n",
    "\n",
    "\n",
    "res1 = ggplot(lm_diag1, aes(x = yhat, y = r)) + \n",
    "    geom_point(alpha = 0.5) + \n",
    "    geom_smooth(se = F, col = \"#CFB87C\") + \n",
    "    geom_abline(intercept = 0, col = 'red') + \n",
    "    xlab(\"Fitted Values\") + \n",
    "    ggtitle(\"Linear Model 1\") +\n",
    "    ylab(\"Residuals\")\n",
    "res2 = ggplot(lm_diag2, aes(x = yhat, y = r)) + \n",
    "    geom_point(alpha = 0.5) + \n",
    "    geom_smooth(se = F, col = \"#CFB87C\") + \n",
    "    geom_abline(intercept = 0, col = 'red') + \n",
    "    xlab(\"Fitted Values\") + \n",
    "    ggtitle(\"Linear Model 2\") +\n",
    "    ylab(\"Residuals\")\n",
    "res3 = ggplot(lm_diag3, aes(x = yhat, y = r)) + \n",
    "    geom_point(alpha = 0.5) + \n",
    "    geom_smooth(se = F, col = \"#CFB87C\") + \n",
    "    geom_abline(intercept = 0, col = 'red') + \n",
    "    xlab(\"Fitted Values\") +\n",
    "    ggtitle(\"Linear Model 3\") +\n",
    "    ylab(\"Residuals\")\n",
    "\n",
    "grid.arrange(lm1, lm2, lm3, nrow=2)\n",
    "grid.arrange(res1, res2, res3, nrow = 2)"
   ]
  },
  {
   "cell_type": "code",
   "execution_count": null,
   "id": "5f172709",
   "metadata": {
    "scrolled": false
   },
   "outputs": [],
   "source": [
    "summary(lm_3)\n",
    "options(repr.plot.width = 9, repr.plot.height = 9)\n",
    "par(mfrow = c(2,2))\n",
    "plot(lm_3, main = \"lm_3\")"
   ]
  },
  {
   "cell_type": "markdown",
   "id": "fb74a61e",
   "metadata": {},
   "source": [
    "# Transformations"
   ]
  },
  {
   "cell_type": "code",
   "execution_count": null,
   "id": "1f79f210",
   "metadata": {
    "scrolled": false
   },
   "outputs": [],
   "source": [
    "# Created transformation to square root, log, and inverse respectively to check constant variance.\n",
    "testincome = c()\n",
    "testincome$RACE = mn$RACE\n",
    "testincome$CLASSWKR = mn$CLASSWKR\n",
    "testincome$DIFFSENS = mn$DIFFSENS\n",
    "testincome$SEX = mn$SEX\n",
    "\n",
    "testincome$inc1 = sqrt(mn$INCWAGE)\n",
    "testincome$sqrt_fam = sqrt(mn$FAMSIZE)\n",
    "testincome$sqrt_age = sqrt(mn$AGE)\n",
    "testincome$sqrt_mar = sqrt(mn$MARRNO)\n",
    "testincome$sqrt_hrs = sqrt(mn$UHRSWORK)\n",
    "testincome$sqrt_occ = sqrt(mn$OCCSCORE)\n",
    "\n",
    "testincome$inc2 = mn$INCWAGE\n",
    "testincome$log_fam = mn$FAMSIZE\n",
    "testincome$log_age = mn$AGE\n",
    "testincome$log_mar = mn$MARRNO\n",
    "testincome$log_hrs = mn$UHRSWORK\n",
    "testincome$log_occ = mn$OCCSCORE\n",
    "\n",
    "# Takes the log transform of values greater than 0, \n",
    "# otherwise we will run into a computational error\n",
    "testincome$inc2[testincome$inc2 > 0] = log(testincome$inc2[testincome$inc2 > 0])\n",
    "testincome$inc2[testincome$inc2 > 0] = log(testincome$inc2[testincome$inc2 > 0])\n",
    "testincome$log_fam[testincome$log_fam > 0] = log(testincome$log_fam[testincome$log_fam > 0])\n",
    "testincome$log_age[testincome$log_age > 0] = log(testincome$log_age[testincome$log_age > 0])\n",
    "testincome$log_mar[testincome$log_mar > 0] = log(testincome$log_mar[testincome$log_mar > 0])\n",
    "testincome$log_hrs[testincome$log_hrs > 0] = log(testincome$log_hrs[testincome$log_hrs > 0])\n",
    "testincome$log_occ[testincome$log_occ > 0] = log(testincome$log_occ[testincome$log_occ > 0])\n",
    "\n",
    "testincome$inc3 = mn$INCWAGE\n",
    "testincome$inv_fam = mn$FAMSIZE\n",
    "testincome$inv_age = mn$AGE\n",
    "testincome$inv_mar = mn$MARRNO\n",
    "testincome$inv_hrs = mn$UHRSWORK\n",
    "testincome$inv_occ = mn$OCCSCORE\n",
    "\n",
    "# Takes the inverse transform of values greater than 0, \n",
    "# otherwise we will run into a computational error\n",
    "testincome$inc3[testincome$inc3 > 0] = 1/testincome$inc3[testincome$inc3 > 0]\n",
    "testincome$inv_fam[testincome$inv_fam > 0] = 1/testincome$inv_fam[testincome$inv_fam > 0]\n",
    "testincome$inv_age[testincome$inv_age > 0] = 1/testincome$inv_age[testincome$inv_age > 0]\n",
    "testincome$inv_mar[testincome$inv_mar > 0] = testincome$inv_mar[testincome$inv_mar > 0]\n",
    "testincome$inv_hrs[testincome$inv_hrs > 0] = testincome$inv_hrs[testincome$inv_hrs > 0]\n",
    "testincome$inv_occ[testincome$inv_occ > 0] = testincome$inv_occ[testincome$inv_occ > 0]\n",
    "\n",
    "testincome = data.frame(testincome)\n",
    "head(testincome)\n",
    "\n",
    "# Models\n",
    "\n",
    "lm_sqrt = lm(inc1 ~ sqrt_fam + sqrt_age + sqrt_mar + sqrt_hrs + sqrt_occ + RACE + CLASSWKR +\n",
    "             DIFFSENS + SEX, data = testincome)\n",
    "lm_log = lm(inc2 ~ log_fam + log_age + log_mar + log_hrs + log_occ + RACE + CLASSWKR +\n",
    "            DIFFSENS + SEX, data = testincome)\n",
    "lm_inv = lm(inc3 ~ inv_fam + inv_age + inv_mar + inv_hrs + inv_occ + RACE + CLASSWKR +\n",
    "            DIFFSENS + SEX, data = testincome)\n",
    "\n",
    "# Plotting Residuals vs. Fitted, QQ Plot, etc. for lm_sqrt, lm_log, and lm_inv.\n",
    "options(repr.plot.width = 9, repr.plot.height = 9)\n",
    "par(mfrow = c(2,2))\n",
    "plot(lm_sqrt, main = \"lm_sqrt\")\n",
    "\n",
    "par(mfrow = c(2,2))\n",
    "plot(lm_log, main = \"lm_log\")\n",
    "\n",
    "par(mfrow = c(2,2))\n",
    "plot(lm_inv, main = \"lm_inv\")"
   ]
  },
  {
   "cell_type": "markdown",
   "id": "0e0f2a40",
   "metadata": {},
   "source": [
    "# Checking for Collinearity"
   ]
  },
  {
   "cell_type": "code",
   "execution_count": null,
   "id": "d6f8aadb",
   "metadata": {},
   "outputs": [],
   "source": [
    "# Since the transformations failed, \n",
    "# we are going to continue with our original model without transformations\n",
    "\n",
    "v = vif(lm_3)\n",
    "k = kappa(lm_3)\n",
    "correlation = cor(model.matrix(lm_3)[,-1])\n",
    "\n",
    "#femlab has the highest VIF with approximately 48.65\n",
    "v; k; correlation"
   ]
  },
  {
   "cell_type": "markdown",
   "id": "1c80a02a",
   "metadata": {},
   "source": [
    "# MSE and MSPE"
   ]
  },
  {
   "cell_type": "code",
   "execution_count": null,
   "id": "bb538b97",
   "metadata": {},
   "outputs": [],
   "source": [
    "n = nrow(mn)\n",
    "split = floor(0.80 * n)\n",
    "\n",
    "sample_set = sample.int(n, size = split, replace = FALSE)\n",
    "\n",
    "train = mn[sample_set, ]\n",
    "test = mn[-sample_set, ]\n",
    "head(train)"
   ]
  },
  {
   "cell_type": "code",
   "execution_count": null,
   "id": "e7ff7256",
   "metadata": {
    "scrolled": false
   },
   "outputs": [],
   "source": [
    "mlr_inc = lm(INCWAGE ~ SEX + AGE + MARRNO + EDUC + CLASSWKR + \n",
    "             UHRSWORK + OCCSCORE + DIFFSENS + RACE, data = train)"
   ]
  },
  {
   "cell_type": "code",
   "execution_count": null,
   "id": "3eea4789",
   "metadata": {
    "scrolled": false
   },
   "outputs": [],
   "source": [
    "# MSPE\n",
    "k = nrow(test) #number of rows\n",
    "\n",
    "y = train$INCWAGE\n",
    "y_star = test$INCWAGE\n",
    "\n",
    "X = cbind(1, train$AGE, train$FAMSIZE, train$MARRNO, train$UHRSWORK, train$OCCSCORE) #train model\n",
    "X_star = cbind(1, test$AGE, test$FAMSIZE, test$MARRNO, test$UHRSWORK, test$OCCSCORE) #test model\n",
    "\n",
    "beta = solve(t(X)%*%X)%*%t(X)%*%y\n",
    "\n",
    "y_hat_star = X_star%*%beta #i'th response value in test set\n",
    "\n",
    "MSPE = (1/k)*sum((y_star - y_hat_star)^2)\n",
    "\n",
    "MSPE"
   ]
  },
  {
   "cell_type": "code",
   "execution_count": null,
   "id": "6d21e31a",
   "metadata": {},
   "outputs": [],
   "source": [
    "# MSE\n",
    "n = nrow(train) # number of rows\n",
    "y = train$INCWAGE\n",
    "X = cbind(1, train$AGE, train$FAMSIZE, train$MARRNO, train$UHRSWORK, train$OCCSCORE)\n",
    "beta = solve(t(X)%*%X)%*%t(X)%*%y #beta hat\n",
    "y_hat = X%*%beta # computing y_hat\n",
    "MSE = (1/n)*sum((y - y_hat)^2); \n",
    "\n",
    "MSE"
   ]
  },
  {
   "cell_type": "code",
   "execution_count": null,
   "id": "9ac42c2b",
   "metadata": {
    "scrolled": true
   },
   "outputs": [],
   "source": [
    "MSE - MSPE"
   ]
  },
  {
   "cell_type": "markdown",
   "id": "9cae0a9e",
   "metadata": {},
   "source": [
    "# Logistic Regression"
   ]
  },
  {
   "cell_type": "code",
   "execution_count": null,
   "id": "ac6037c7",
   "metadata": {},
   "outputs": [],
   "source": [
    "mn$EDUC = as_factor(mn$EDUC)\n",
    "mn$CLASSWKR = as_factor(mn$CLASSWKR)\n",
    "mn$DIFFSENS = as_factor(mn$DIFFSENS)\n",
    "mn$SEX = as_factor(mn$SEX)\n",
    "mn$RACE = as_factor(mn$RACE)"
   ]
  },
  {
   "cell_type": "code",
   "execution_count": null,
   "id": "870f8890",
   "metadata": {},
   "outputs": [],
   "source": [
    "mn$INCTHRES = NA\n",
    "mn$INCTHRES[mn$INCWAGE < 35000] =  0\n",
    "mn$INCTHRES[mn$INCWAGE > 35000] =  1\n",
    "head(mn)"
   ]
  },
  {
   "cell_type": "code",
   "execution_count": null,
   "id": "acad8aba",
   "metadata": {
    "scrolled": false
   },
   "outputs": [],
   "source": [
    "glm_mn = glm(INCTHRES ~ SEX + AGE + MARRNO + EDUC + CLASSWKR + UHRSWORK + OCCSCORE + DIFFSENS + RACE, data = mn, \n",
    "             family = binomial)\n",
    "summary(glm_mn)"
   ]
  },
  {
   "cell_type": "code",
   "execution_count": null,
   "id": "d731285e",
   "metadata": {
    "scrolled": false
   },
   "outputs": [],
   "source": [
    "options(repr.plot.width = 9, repr.plot.height = 9)\n",
    "par(mfrow = c(2,2))\n",
    "plot(glm_mn)"
   ]
  },
  {
   "cell_type": "code",
   "execution_count": null,
   "id": "71bd0055",
   "metadata": {},
   "outputs": [],
   "source": [
    "set.seed(00000)\n",
    "n = nrow(mn)\n",
    "split = floor(0.004671 * n)\n",
    "\n",
    "sample_set = sample.int(n, size = split, replace = FALSE)\n",
    "\n",
    "tinyTest = mn[sample_set, ]\n",
    "\n",
    "\n",
    "lmod = lm(INCWAGE ~ EDUC + UHRSWORK + OCCSCORE, tinyTest)\n",
    " \n",
    "ggplot(tinyTest, aes(x = predict(lmod, type = 'response'), y = INCWAGE )) + \n",
    "    geom_point(col = \"dark blue\") + \n",
    "    geom_smooth(se = F, col = \"#CFB87C\") +\n",
    "    labs(x = 'Predictions', y= 'Actual Income Wage',title='Predicted vs. Actual Values') + \n",
    "    theme_minimal()"
   ]
  },
  {
   "cell_type": "code",
   "execution_count": null,
   "id": "17ede32d",
   "metadata": {},
   "outputs": [],
   "source": []
  }
 ],
 "metadata": {
  "kernelspec": {
   "display_name": "R",
   "language": "R",
   "name": "ir"
  },
  "language_info": {
   "codemirror_mode": "r",
   "file_extension": ".r",
   "mimetype": "text/x-r-source",
   "name": "R",
   "pygments_lexer": "r",
   "version": "3.6.1"
  }
 },
 "nbformat": 4,
 "nbformat_minor": 5
}

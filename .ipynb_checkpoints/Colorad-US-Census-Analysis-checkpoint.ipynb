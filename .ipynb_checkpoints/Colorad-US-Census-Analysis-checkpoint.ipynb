{
 "cells": [
  {
   "cell_type": "markdown",
   "id": "8de1dbc9",
   "metadata": {},
   "source": [
    "## Imports Dataset ##"
   ]
  },
  {
   "cell_type": "code",
   "execution_count": null,
   "id": "313340e7",
   "metadata": {},
   "outputs": [],
   "source": [
    "library(plyr)\n",
    "library(dplyr)\n",
    "library(zoo)\n",
    "library(tidyr)\n",
    "library(ggplot2)\n",
    "library(gridExtra)\n",
    "library(corrplot)\n",
    "library(tidyverse)\n",
    "library(leaps)\n",
    "library(car)\n",
    "\n",
    "# FAMSIZE, AGE, MARRNO, UHRSWORK, INCWAGE, OCCSCORE are continuous\n",
    "census = read.table(\"usa_2018.csv\", sep = \",\", header = TRUE)\n",
    "census_clean = read.table(\"cleaned_acs_2018.csv\", sep = \",\", header = TRUE)\n",
    "#Filter\n",
    "CO = filter(census, STATEFIP == \"8\")\n",
    "CO_Cleaned = filter(census_clean, STATEFIP == \"Colorado\")\n",
    "head(CO)\n",
    "head(CO_Cleaned)"
   ]
  },
  {
   "cell_type": "markdown",
   "id": "50f8eb14",
   "metadata": {},
   "source": [
    "## Cleaning Data Set ##"
   ]
  },
  {
   "cell_type": "code",
   "execution_count": 16,
   "id": "6b352bbc",
   "metadata": {
    "scrolled": false
   },
   "outputs": [
    {
     "data": {
      "text/html": [
       "'factor'"
      ],
      "text/latex": [
       "'factor'"
      ],
      "text/markdown": [
       "'factor'"
      ],
      "text/plain": [
       "[1] \"factor\""
      ]
     },
     "metadata": {},
     "output_type": "display_data"
    },
    {
     "ename": "ERROR",
     "evalue": "Error in hist.default(co$AGE, main = \"Age\", xlab = \"age\"): 'x' must be numeric\n",
     "output_type": "error",
     "traceback": [
      "Error in hist.default(co$AGE, main = \"Age\", xlab = \"age\"): 'x' must be numeric\nTraceback:\n",
      "1. hist(co$AGE, main = \"Age\", xlab = \"age\")",
      "2. hist.default(co$AGE, main = \"Age\", xlab = \"age\")",
      "3. stop(\"'x' must be numeric\")"
     ]
    }
   ],
   "source": [
    "CO$MARST = CO_Cleaned$MARST\n",
    "CO$CLASSWKR = CO_Cleaned$CLASSWKR\n",
    "CO$DIFFSENS = CO_Cleaned$DIFFSENS\n",
    "CO$SEX = CO_Cleaned$SEX\n",
    "\n",
    "CO$RACE[CO$RACE == 1] = \"White\"\n",
    "CO$RACE[CO$RACE == 2] = \"Black/African American\"\n",
    "CO$RACE[CO$RACE == 3] = \"American Indian or Alaska Native\"\n",
    "CO$RACE[CO$RACE == 4] = \"Asian American or Pacific Islander\"\n",
    "CO$RACE[CO$RACE == 5] = \"Asian American or Pacific Islander\"\n",
    "CO$RACE[CO$RACE == 6] = \"Asian American or Pacific Islander\"\n",
    "CO$RACE[CO$RACE == 7] = \"Other Race\"\n",
    "CO$RACE[CO$RACE == 8] = \"Other Race\"\n",
    "CO$RACE[CO$RACE == 9] = \"Other Race\"\n",
    "\n",
    "CO$EDUC[CO$EDUC == 0] = \"High School or Less\"\n",
    "CO$EDUC[CO$EDUC == 1] = \"High School or Less\"\n",
    "CO$EDUC[CO$EDUC == 2] = \"High School or Less\"\n",
    "CO$EDUC[CO$EDUC == 3] = \"High School or Less\"\n",
    "CO$EDUC[CO$EDUC == 4] = \"High School or Less\"\n",
    "CO$EDUC[CO$EDUC == 5] = \"High School or Less\"\n",
    "CO$EDUC[CO$EDUC == 6] = \"High School or Less\"\n",
    "CO$EDUC[CO$EDUC == 7] = \"College or More\"\n",
    "CO$EDUC[CO$EDUC == 8] = \"College or More\"\n",
    "CO$EDUC[CO$EDUC == 9] = \"College or More\"\n",
    "CO$EDUC[CO$EDUC == 10] = \"College or More\"\n",
    "CO$EDUC[CO$EDUC == 11] = \"College or More\"\n",
    "\n",
    "CO$YRSUSA1[CO$YRSUSA1 == 0] = NA\n",
    "\n",
    "co = select(CO, -c(YEAR, STATEFIP, RACED, CLASSWKRD, EDUCD, POVERTY))\n",
    "head(co)\n",
    "\n"
   ]
  },
  {
   "cell_type": "markdown",
   "id": "799fe5f2",
   "metadata": {},
   "source": [
    "## Exploratory Analysis ##"
   ]
  },
  {
   "cell_type": "code",
   "execution_count": null,
   "id": "dd70a140",
   "metadata": {
    "scrolled": false
   },
   "outputs": [],
   "source": [
    "# Exploratory Data Analysis\n",
    "\n",
    "# Histograms for numeric values\n",
    "age_hist <- ggplot(co, aes(x = co$AGE)) +\n",
    "    geom_histogram(color=\"grey3\", alpha=0.6, stat = 'count') +\n",
    "    theme(axis.text.x = element_text(angle = 90, vjust = 0.5)) + \n",
    "    scale_fill_manual(values=c(\"#69b3a2\")) + xlab(\"Age\") + \n",
    "    ylab(\"Frequency\") + labs(fill = \"\") + ggtitle(\"\") + theme(legend.position = \"none\")\n",
    "\n",
    "famsize_hist <- ggplot(co, aes(x = co$FAMSIZE)) +\n",
    "    geom_histogram(color=\"grey3\", alpha=0.6, stat = 'count') +\n",
    "    theme(axis.text.x = element_text(angle = 90, vjust = 0.5)) + \n",
    "    scale_fill_manual(values=c(\"#69b3a2\")) + xlab(\"Family Size\") + \n",
    "    ylab(\"Frequency\") + labs(fill = \"\") + ggtitle(\"\") + theme(legend.position = \"none\")\n",
    "\n",
    "hours_hist <- ggplot(co, aes(x = co$UHRSWORK)) +\n",
    "    geom_histogram(color=\"grey3\", alpha=0.6, stat = 'count') +\n",
    "    theme(axis.text.x = element_text(angle = 90, vjust = 0.5)) + \n",
    "    scale_fill_manual(values=c(\"#69b3a2\")) + xlab(\"Hours Worked per Week\") + \n",
    "    ylab(\"Frequency\") + labs(fill = \"\") + ggtitle(\"\") + theme(legend.position = \"none\")\n",
    "\n",
    "edu_hist <- ggplot(co, aes(x = co$EDUC)) +\n",
    "    geom_histogram(color=\"grey3\", alpha=0.6, stat = 'count') +\n",
    "    theme(axis.text.x = element_text(angle = 90, vjust = 0.5)) + \n",
    "    scale_fill_manual(values=c(\"#69b3a2\")) + xlab(\"Educational Attainment\") + \n",
    "    ylab(\"Frequency\") + labs(fill = \"\") + ggtitle(\"\") + theme(legend.position = \"none\")\n",
    "\n",
    "inc_hist <- ggplot(co, aes(x = co$INCWAGE)) +\n",
    "    geom_histogram(color=\"grey3\", alpha=0.6, stat = 'count') +\n",
    "    theme(axis.text.x = element_text(angle = 90, vjust = 0.5)) + \n",
    "    scale_fill_manual(values=c(\"#69b3a2\")) + xlab(\"Total Individual Income/Wage\") + \n",
    "    ylab(\"Frequency\") + labs(fill = \"\") + ggtitle(\"\") + theme(legend.position = \"none\")\n",
    "\n",
    "occ_hist <- ggplot(co, aes(x = co$OCCSCORE)) +\n",
    "    geom_histogram(color=\"grey3\", alpha=0.6, stat = 'count') +\n",
    "    theme(axis.text.x = element_text(angle = 90, vjust = 0.5)) + \n",
    "    scale_fill_manual(values=c(\"#69b3a2\")) + xlab(\"Occupational Score\") + \n",
    "    ylab(\"Frequency\") + labs(fill = \"\") + ggtitle(\"\") + theme(legend.position = \"none\")\n",
    "\n",
    "grid.arrange(inc_hist, occ_hist, age_hist, famsize_hist, hours_hist, edu_hist, nrow=3)"
   ]
  },
  {
   "cell_type": "markdown",
   "id": "917e7ad6",
   "metadata": {},
   "source": [
    "## AIC and BIC Graphs ##"
   ]
  },
  {
   "cell_type": "code",
   "execution_count": null,
   "id": "99b15451",
   "metadata": {},
   "outputs": [],
   "source": [
    "\n",
    "\n",
    "# corr = cor(model.matrix(lmod_co)[,-1])\n",
    "\n",
    "n = dim(co)[1]; \n",
    "regCO = regsubsets(INCWAGE ~ ., data = co, really.big=T)\n",
    "rs = summary(regCO)\n",
    "rs$which\n",
    "\n",
    "AIC = 2*(2:9) + n*log(rs$rss/n)\n",
    "plot(AIC ~ I(1:8), xlab = 'number of predictors', ylab = 'AIC', main = \"AIC Graph\")\n",
    "\n",
    "# Best predictors in terms of AIC\n",
    "# 8 predictors - SEX, AGE, MARRNO, EDUC, CLASSWKR, UHRSWORK, OCCSCORE, DIFFSENS\n",
    "# 7 predictors - SEX, AGE, EDUC, CLASSWKR, UHRSWORK, OCCSCORE, DIFFSENS\n",
    "# 6 predictors - AGE, EDUC, CLASSWKR, UHRSWORK, OCCSCORE, DIFFSENS\n",
    "\n",
    "BIC = log(n)*(2:9) + n*log(rs$rss/n) \n",
    "plot(BIC ~ I(1:8), xlab = \"number of predictors\", ylab = \"BIC\", main = \"BIC\")\n",
    "\n",
    "# Best predictors in terms of BIC\n",
    "# 8 predictors - SEX, AGE, MARRNO, EDUC, CLASSWKR, UHRSWORK, OCCSCORE, DIFFSENS\n",
    "# 7 predictors - SEX, AGE, EDUC, CLASSWKR, UHRSWORK, OCCSCORE, DIFFSENS\n",
    "# 6 predictors - AGE, EDUC, CLASSWKR, UHRSWORK, OCCSCORE, DIFFSENS\n",
    "\n"
   ]
  },
  {
   "cell_type": "markdown",
   "id": "8d82dd41",
   "metadata": {},
   "source": [
    "## Linear Model with Age only as predictor ##"
   ]
  },
  {
   "cell_type": "code",
   "execution_count": null,
   "id": "36ee9f8c",
   "metadata": {
    "scrolled": false
   },
   "outputs": [],
   "source": [
    "# FAMSIZE, AGE, MARRNO, UHRSWORK, INCWAGE, OCCSCORE are continuous\n",
    "lm_cont = lm(INCWAGE ~ AGE , co)\n",
    "\n",
    "p1 = ggplot(co, aes(y = INCWAGE, x = AGE)) + \n",
    "    geom_point(alpha = 0.3) + \n",
    "    geom_smooth(se = F, col = \"#CFB87C\") + \n",
    "    geom_abline(intercept = 0, slope = 1) + \n",
    "    xlab(\"AGE\") + \n",
    "    ylab(\"Income\") + \n",
    "    theme_bw()\n",
    "\n",
    "p2 = ggplot(co, aes(y = INCWAGE, x = UHRSWORK)) + \n",
    "    geom_point(alpha = 0.3) + \n",
    "    geom_smooth(se = F, col = \"#CFB87C\") + \n",
    "    geom_abline(intercept = 0, slope = 1, col = 'grey') + \n",
    "    xlab(\"AGE\") + \n",
    "    ylab(\"Income\") + \n",
    "    theme_bw()\n",
    "grid.arrange(p1, p2, nrow=1)"
   ]
  },
  {
   "cell_type": "markdown",
   "id": "5db88729",
   "metadata": {},
   "source": [
    "## Linear models testing different number of predictors ##"
   ]
  },
  {
   "cell_type": "code",
   "execution_count": null,
   "id": "1dc1a38f",
   "metadata": {},
   "outputs": [],
   "source": [
    "lm_1 = lm(INCWAGE ~ SEX+ AGE + MARRNO + EDUC + CLASSWKR + UHRSWORK + OCCSCORE + DIFFSENS + RACE, co)\n",
    "lm_2 = lm(INCWAGE ~ SEX+ AGE + EDUC + CLASSWKR + UHRSWORK + OCCSCORE + DIFFSENS, co)\n",
    "lm_3 = lm(INCWAGE ~ AGE + EDUC + CLASSWKR + UHRSWORK + OCCSCORE + DIFFSENS , co)\n",
    "\n",
    "anova(lm_1, lm_2)\n",
    "anova(lm_2, lm_3)\n",
    "\n",
    "lm_diag1 = data.frame(yhat = fitted(lm_1), r = resid(lm_1), y = co$INCWAGE)\n",
    "lm_diag2 = data.frame(yhat = fitted(lm_2), r = resid(lm_2), y = co$INCWAGE)\n",
    "lm_diag3 = data.frame(yhat = fitted(lm_3), r = resid(lm_3), y = co$INCWAGE)\n",
    "\n",
    "options(repr.plot.width = 6, repr.plot.width = 6)\n",
    "lm1 = ggplot(lm_diag1, aes(x = y, y = yhat)) + \n",
    "    geom_point(alpha =0.5, col = 'deepskyblue') + \n",
    "    geom_smooth(se = F, col = \"#CFB87C\") + \n",
    "    xlab(\"Observed\") + \n",
    "    ylab(\"Fitted\") + \n",
    "    ggtitle(\"Linear Model 1\") +\n",
    "    theme_bw()\n",
    "\n",
    "lm2 = ggplot(lm_diag2, aes(x = y, y = yhat)) + \n",
    "    geom_point(alpha =0.5, col = 'deepskyblue') + \n",
    "    geom_smooth(se = F, col = \"#CFB87C\") + \n",
    "    xlab(\"Observed\") + \n",
    "    ylab(\"Fitted\") + \n",
    "    ggtitle(\"Linear Model 2\") +\n",
    "    theme_bw()\n",
    "\n",
    "lm3 = ggplot(lm_diag3, aes(x = y, y = yhat)) + \n",
    "    geom_point(alpha =0.5, col = 'deepskyblue') + \n",
    "    geom_smooth(se = F, col = \"#CFB87C\") + \n",
    "    xlab(\"Observed\") + \n",
    "    ylab(\"Fitted\") + \n",
    "    ggtitle(\"Linear Model 3\") +\n",
    "    theme_bw()\n",
    "\n",
    "\n",
    "res1 = ggplot(lm_diag1, aes(x = yhat, y = r)) + \n",
    "    geom_point(alpha = 0.5) + \n",
    "    geom_smooth(se = F, col = \"#CFB87C\") + \n",
    "    geom_abline(intercept = 0, col = 'red') + \n",
    "    xlab(\"Fitted Values\") + \n",
    "    ggtitle(\"Linear Model 1\") +\n",
    "    ylab(\"Residuals\")\n",
    "res2 = ggplot(lm_diag2, aes(x = yhat, y = r)) + \n",
    "    geom_point(alpha = 0.5) + \n",
    "    geom_smooth(se = F, col = \"#CFB87C\") + \n",
    "    geom_abline(intercept = 0, col = 'red') + \n",
    "    xlab(\"Fitted Values\") + \n",
    "    ggtitle(\"Linear Model 2\") +\n",
    "    ylab(\"Residuals\")\n",
    "res3 = ggplot(lm_diag3, aes(x = yhat, y = r)) + \n",
    "    geom_point(alpha = 0.5) + \n",
    "    geom_smooth(se = F, col = \"#CFB87C\") + \n",
    "    geom_abline(intercept = 0, col = 'red') + \n",
    "    xlab(\"Fitted Values\") +\n",
    "    ggtitle(\"Linear Model 3\") +\n",
    "    ylab(\"Residuals\")\n",
    "\n",
    "grid.arrange(lm1, lm2, lm3, nrow=2)\n",
    "grid.arrange(res1, res2, res3, nrow = 2)"
   ]
  },
  {
   "cell_type": "markdown",
   "id": "62a45b8b",
   "metadata": {},
   "source": [
    "## Colinearity Checks ##"
   ]
  },
  {
   "cell_type": "code",
   "execution_count": null,
   "id": "88f67559",
   "metadata": {},
   "outputs": [],
   "source": [
    "vif(lm_co)\n",
    "kappa(lm_co)\n",
    "cor(model.matrix(lm_co)[,-1])"
   ]
  },
  {
   "cell_type": "markdown",
   "id": "f5ba04c8",
   "metadata": {},
   "source": [
    "$$Classwork \\Rightarrow Age \\\\\n",
    "Age \\Rightarrow Married \\\\ \n",
    "Works wage \\Rightarrow Self Employed \\\\\n",
    "UhrsWork \\Rightarrow Work wage \\\\\n",
    "Occscore \\Rightarrow Work wages \\\\ \n",
    "Age \\Rightarrow UhrsWork \\\\ \n",
    "Occsocre \\Rightarrow Uhrswork \\\\\n",
    "Race \\Rightarrow Race$$"
   ]
  },
  {
   "cell_type": "code",
   "execution_count": null,
   "id": "da3bff16",
   "metadata": {},
   "outputs": [],
   "source": []
  }
 ],
 "metadata": {
  "kernelspec": {
   "display_name": "R",
   "language": "R",
   "name": "ir"
  },
  "language_info": {
   "codemirror_mode": "r",
   "file_extension": ".r",
   "mimetype": "text/x-r-source",
   "name": "R",
   "pygments_lexer": "r",
   "version": "3.6.1"
  }
 },
 "nbformat": 4,
 "nbformat_minor": 5
}

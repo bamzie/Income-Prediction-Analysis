{
 "cells": [
  {
   "cell_type": "code",
   "execution_count": 12,
   "id": "df0f15c5",
   "metadata": {},
   "outputs": [
    {
     "data": {
      "text/html": [
       "<table>\n",
       "<thead><tr><th scope=col>X</th><th scope=col>FAMSIZE</th><th scope=col>SEX</th><th scope=col>AGE</th><th scope=col>MARRNO</th><th scope=col>RACE</th><th scope=col>YRSUSA1</th><th scope=col>EDUC</th><th scope=col>CLASSWKR</th><th scope=col>UHRSWORK</th><th scope=col>INCWAGE</th><th scope=col>POVERTY</th><th scope=col>OCCSCORE</th><th scope=col>DIFFSENS</th></tr></thead>\n",
       "<tbody>\n",
       "\t<tr><td>1                                       </td><td>1 family member present                 </td><td>Male                                    </td><td>22                                      </td><td>Not Applicable                          </td><td>White                                   </td><td>N/A or less than one year               </td><td>Grade 12                                </td><td>Works for wages                         </td><td>70                                      </td><td>31852                                   </td><td>N/A                                     </td><td>NA                                      </td><td>Has vision or hearing difficulty        </td></tr>\n",
       "\t<tr><td>2                                       </td><td>5                                       </td><td>Female                                  </td><td>58                                      </td><td>Married once                            </td><td>White                                   </td><td>N/A or less than one year               </td><td>Grade 12                                </td><td>Works for wages                         </td><td>25                                      </td><td>31852                                   </td><td>501 percent or more of poverty threshold</td><td>NA                                      </td><td>No vision or hearing difficulty         </td></tr>\n",
       "\t<tr><td>3                                       </td><td>5                                       </td><td>Male                                    </td><td>58                                      </td><td>Married once                            </td><td>White                                   </td><td>N/A or less than one year               </td><td>5+ years of college                     </td><td>Self-employed                           </td><td>20                                      </td><td>    0                                   </td><td>501 percent or more of poverty threshold</td><td>NA                                      </td><td>No vision or hearing difficulty         </td></tr>\n",
       "\t<tr><td>4                                       </td><td>5                                       </td><td>Female                                  </td><td>34                                      </td><td>Married once                            </td><td>White                                   </td><td>N/A or less than one year               </td><td>5+ years of college                     </td><td>Works for wages                         </td><td>40                                      </td><td>53086                                   </td><td>501 percent or more of poverty threshold</td><td>NA                                      </td><td>No vision or hearing difficulty         </td></tr>\n",
       "\t<tr><td>5                                       </td><td>5                                       </td><td>Male                                    </td><td>39                                      </td><td>Married once                            </td><td>White                                   </td><td>N/A or less than one year               </td><td>5+ years of college                     </td><td>Works for wages                         </td><td>40                                      </td><td>44593                                   </td><td>501 percent or more of poverty threshold</td><td>NA                                      </td><td>No vision or hearing difficulty         </td></tr>\n",
       "\t<tr><td>6                                       </td><td>2 family members present                </td><td>Female                                  </td><td>60                                      </td><td>Married once                            </td><td>White                                   </td><td>N/A or less than one year               </td><td>4 years of college                      </td><td>Works for wages                         </td><td>45                                      </td><td>47778                                   </td><td>501 percent or more of poverty threshold</td><td>NA                                      </td><td>No vision or hearing difficulty         </td></tr>\n",
       "</tbody>\n",
       "</table>\n"
      ],
      "text/latex": [
       "\\begin{tabular}{r|llllllllllllll}\n",
       " X & FAMSIZE & SEX & AGE & MARRNO & RACE & YRSUSA1 & EDUC & CLASSWKR & UHRSWORK & INCWAGE & POVERTY & OCCSCORE & DIFFSENS\\\\\n",
       "\\hline\n",
       "\t 1                                        & 1 family member present                  & Male                                     & 22                                       & Not Applicable                           & White                                    & N/A or less than one year                & Grade 12                                 & Works for wages                          & 70                                       & 31852                                    & N/A                                      & NA                                       & Has vision or hearing difficulty        \\\\\n",
       "\t 2                                        & 5                                        & Female                                   & 58                                       & Married once                             & White                                    & N/A or less than one year                & Grade 12                                 & Works for wages                          & 25                                       & 31852                                    & 501 percent or more of poverty threshold & NA                                       & No vision or hearing difficulty         \\\\\n",
       "\t 3                                        & 5                                        & Male                                     & 58                                       & Married once                             & White                                    & N/A or less than one year                & 5+ years of college                      & Self-employed                            & 20                                       &     0                                    & 501 percent or more of poverty threshold & NA                                       & No vision or hearing difficulty         \\\\\n",
       "\t 4                                        & 5                                        & Female                                   & 34                                       & Married once                             & White                                    & N/A or less than one year                & 5+ years of college                      & Works for wages                          & 40                                       & 53086                                    & 501 percent or more of poverty threshold & NA                                       & No vision or hearing difficulty         \\\\\n",
       "\t 5                                        & 5                                        & Male                                     & 39                                       & Married once                             & White                                    & N/A or less than one year                & 5+ years of college                      & Works for wages                          & 40                                       & 44593                                    & 501 percent or more of poverty threshold & NA                                       & No vision or hearing difficulty         \\\\\n",
       "\t 6                                        & 2 family members present                 & Female                                   & 60                                       & Married once                             & White                                    & N/A or less than one year                & 4 years of college                       & Works for wages                          & 45                                       & 47778                                    & 501 percent or more of poverty threshold & NA                                       & No vision or hearing difficulty         \\\\\n",
       "\\end{tabular}\n"
      ],
      "text/markdown": [
       "\n",
       "| X | FAMSIZE | SEX | AGE | MARRNO | RACE | YRSUSA1 | EDUC | CLASSWKR | UHRSWORK | INCWAGE | POVERTY | OCCSCORE | DIFFSENS |\n",
       "|---|---|---|---|---|---|---|---|---|---|---|---|---|---|\n",
       "| 1                                        | 1 family member present                  | Male                                     | 22                                       | Not Applicable                           | White                                    | N/A or less than one year                | Grade 12                                 | Works for wages                          | 70                                       | 31852                                    | N/A                                      | NA                                       | Has vision or hearing difficulty         |\n",
       "| 2                                        | 5                                        | Female                                   | 58                                       | Married once                             | White                                    | N/A or less than one year                | Grade 12                                 | Works for wages                          | 25                                       | 31852                                    | 501 percent or more of poverty threshold | NA                                       | No vision or hearing difficulty          |\n",
       "| 3                                        | 5                                        | Male                                     | 58                                       | Married once                             | White                                    | N/A or less than one year                | 5+ years of college                      | Self-employed                            | 20                                       |     0                                    | 501 percent or more of poverty threshold | NA                                       | No vision or hearing difficulty          |\n",
       "| 4                                        | 5                                        | Female                                   | 34                                       | Married once                             | White                                    | N/A or less than one year                | 5+ years of college                      | Works for wages                          | 40                                       | 53086                                    | 501 percent or more of poverty threshold | NA                                       | No vision or hearing difficulty          |\n",
       "| 5                                        | 5                                        | Male                                     | 39                                       | Married once                             | White                                    | N/A or less than one year                | 5+ years of college                      | Works for wages                          | 40                                       | 44593                                    | 501 percent or more of poverty threshold | NA                                       | No vision or hearing difficulty          |\n",
       "| 6                                        | 2 family members present                 | Female                                   | 60                                       | Married once                             | White                                    | N/A or less than one year                | 4 years of college                       | Works for wages                          | 45                                       | 47778                                    | 501 percent or more of poverty threshold | NA                                       | No vision or hearing difficulty          |\n",
       "\n"
      ],
      "text/plain": [
       "  X FAMSIZE                  SEX    AGE MARRNO         RACE \n",
       "1 1 1 family member present  Male   22  Not Applicable White\n",
       "2 2 5                        Female 58  Married once   White\n",
       "3 3 5                        Male   58  Married once   White\n",
       "4 4 5                        Female 34  Married once   White\n",
       "5 5 5                        Male   39  Married once   White\n",
       "6 6 2 family members present Female 60  Married once   White\n",
       "  YRSUSA1                   EDUC                CLASSWKR        UHRSWORK\n",
       "1 N/A or less than one year Grade 12            Works for wages 70      \n",
       "2 N/A or less than one year Grade 12            Works for wages 25      \n",
       "3 N/A or less than one year 5+ years of college Self-employed   20      \n",
       "4 N/A or less than one year 5+ years of college Works for wages 40      \n",
       "5 N/A or less than one year 5+ years of college Works for wages 40      \n",
       "6 N/A or less than one year 4 years of college  Works for wages 45      \n",
       "  INCWAGE POVERTY                                  OCCSCORE\n",
       "1 31852   N/A                                      NA      \n",
       "2 31852   501 percent or more of poverty threshold NA      \n",
       "3     0   501 percent or more of poverty threshold NA      \n",
       "4 53086   501 percent or more of poverty threshold NA      \n",
       "5 44593   501 percent or more of poverty threshold NA      \n",
       "6 47778   501 percent or more of poverty threshold NA      \n",
       "  DIFFSENS                        \n",
       "1 Has vision or hearing difficulty\n",
       "2 No vision or hearing difficulty \n",
       "3 No vision or hearing difficulty \n",
       "4 No vision or hearing difficulty \n",
       "5 No vision or hearing difficulty \n",
       "6 No vision or hearing difficulty "
      ]
     },
     "metadata": {},
     "output_type": "display_data"
    },
    {
     "data": {
      "text/plain": [
       "       X                              FAMSIZE          SEX        \n",
       " Min.   :     1   2 family members present:77566   Female:108388  \n",
       " 1st Qu.: 53532   1 family member present :51766   Male  :105736  \n",
       " Median :107062   3                       :32527                  \n",
       " Mean   :107062   4                       :29562                  \n",
       " 3rd Qu.:160593   5                       :13455                  \n",
       " Max.   :214124   6                       : 5428                  \n",
       "                  (Other)                 : 3820                  \n",
       "      AGE                              MARRNO      \n",
       " 55     :  4091   Married once            :118536  \n",
       " 56     :  4064   Married thrice (or more):  9202  \n",
       " 60     :  4042   Married twice (or more) : 33253  \n",
       " 57     :  4039   Not Applicable          : 53133  \n",
       " 54     :  3906                                    \n",
       " 61     :  3899                                    \n",
       " (Other):190083                                    \n",
       "                               RACE                             YRSUSA1      \n",
       " White                           :188559   N/A or less than one year:191365  \n",
       " Black/African American/Negro    :  6360   17                       :   796  \n",
       " Other race, nec                 :  5740   18                       :   788  \n",
       " Other Asian or Pacific Islander :  4640   16                       :   744  \n",
       " Two major races                 :  4504   15                       :   740  \n",
       " American Indian or Alaska Native:  1972   19                       :   707  \n",
       " (Other)                         :  2349   (Other)                  : 18984  \n",
       "                  EDUC                  CLASSWKR         UHRSWORK    \n",
       " Grade 12           :65690   N/A            : 46281   N/A    :64549  \n",
       " 4 years of college :52026   Self-employed  : 21304   40     :60770  \n",
       " 1 year of college  :34702   Works for wages:146539   50     :14639  \n",
       " 5+ years of college:31146                            45     :10616  \n",
       " 2 years of college :17181                            30     : 7330  \n",
       " Grade 11           : 3717                            20     : 6764  \n",
       " (Other)            : 9662                            (Other):49456  \n",
       "    INCWAGE                                           POVERTY      \n",
       " Min.   :     0   501 percent or more of poverty threshold: 76162  \n",
       " 1st Qu.:     0   N/A                                     :  8731  \n",
       " Median : 16638   1 percent or less of poverty threshold  :  3083  \n",
       " Mean   : 35384   284                                     :   491  \n",
       " 3rd Qu.: 50876   162                                     :   487  \n",
       " Max.   :508091   243                                     :   455  \n",
       "                  (Other)                                 :124715  \n",
       " OCCSCORE                                   DIFFSENS     \n",
       " Mode:logical   Has vision or hearing difficulty: 14822  \n",
       " NA's:214124    No vision or hearing difficulty :199302  \n",
       "                                                         \n",
       "                                                         \n",
       "                                                         \n",
       "                                                         \n",
       "                                                         "
      ]
     },
     "metadata": {},
     "output_type": "display_data"
    }
   ],
   "source": [
    "library(plyr)\n",
    "library(dplyr)\n",
    "library(zoo)\n",
    "library(tidyr)\n",
    "library(ggplot2)\n",
    "library(gridExtra)\n",
    "library(corrplot)\n",
    "library(tidyverse)\n",
    "library(leaps)\n",
    "library(car)\n",
    "\n",
    "# FAMSIZE, AGE, MARRNO, UHRSWORK, INCWAGE, OCCSCORE are continuous\n",
    "census = read.table(\"usa_2018.csv\", sep = \",\", header = TRUE)\n",
    "census_clean = read.table(\"cleaned_acs_2018.csv\", sep = \",\", header = TRUE)\n",
    "#Filter\n",
    "CO = filter(census, STATEFIP == \"8\")\n",
    "CO_Cleaned = filter(census_clean, STATEFIP == \"Colorado\")\n",
    "head(CO)\n",
    "head(CO_Cleaned)"
   ]
  },
  {
   "cell_type": "code",
   "execution_count": 16,
   "id": "6b352bbc",
   "metadata": {
    "scrolled": false
   },
   "outputs": [
    {
     "data": {
      "text/html": [
       "'factor'"
      ],
      "text/latex": [
       "'factor'"
      ],
      "text/markdown": [
       "'factor'"
      ],
      "text/plain": [
       "[1] \"factor\""
      ]
     },
     "metadata": {},
     "output_type": "display_data"
    },
    {
     "ename": "ERROR",
     "evalue": "Error in hist.default(co$AGE, main = \"Age\", xlab = \"age\"): 'x' must be numeric\n",
     "output_type": "error",
     "traceback": [
      "Error in hist.default(co$AGE, main = \"Age\", xlab = \"age\"): 'x' must be numeric\nTraceback:\n",
      "1. hist(co$AGE, main = \"Age\", xlab = \"age\")",
      "2. hist.default(co$AGE, main = \"Age\", xlab = \"age\")",
      "3. stop(\"'x' must be numeric\")"
     ]
    }
   ],
   "source": [
    "CO$MARST = CO_Cleaned$MARST\n",
    "CO$CLASSWKR = CO_Cleaned$CLASSWKR\n",
    "CO$DIFFSENS = CO_Cleaned$DIFFSENS\n",
    "CO$SEX = CO_Cleaned$SEX\n",
    "\n",
    "CO$RACE[CO$RACE == 1] = \"White\"\n",
    "CO$RACE[CO$RACE == 2] = \"Black/African American\"\n",
    "CO$RACE[CO$RACE == 3] = \"American Indian or Alaska Native\"\n",
    "CO$RACE[CO$RACE == 4] = \"Asian American or Pacific Islander\"\n",
    "CO$RACE[CO$RACE == 5] = \"Asian American or Pacific Islander\"\n",
    "CO$RACE[CO$RACE == 6] = \"Asian American or Pacific Islander\"\n",
    "CO$RACE[CO$RACE == 7] = \"Other Race\"\n",
    "CO$RACE[CO$RACE == 8] = \"Other Race\"\n",
    "CO$RACE[CO$RACE == 9] = \"Other Race\"\n",
    "\n",
    "CO$EDUC[CO$EDUC == 0] = \"High School or Less\"\n",
    "CO$EDUC[CO$EDUC == 1] = \"High School or Less\"\n",
    "CO$EDUC[CO$EDUC == 2] = \"High School or Less\"\n",
    "CO$EDUC[CO$EDUC == 3] = \"High School or Less\"\n",
    "CO$EDUC[CO$EDUC == 4] = \"High School or Less\"\n",
    "CO$EDUC[CO$EDUC == 5] = \"High School or Less\"\n",
    "CO$EDUC[CO$EDUC == 6] = \"High School or Less\"\n",
    "CO$EDUC[CO$EDUC == 7] = \"College or More\"\n",
    "CO$EDUC[CO$EDUC == 8] = \"College or More\"\n",
    "CO$EDUC[CO$EDUC == 9] = \"College or More\"\n",
    "CO$EDUC[CO$EDUC == 10] = \"College or More\"\n",
    "CO$EDUC[CO$EDUC == 11] = \"College or More\"\n",
    "\n",
    "CO$YRSUSA1[CO$YRSUSA1 == 0] = NA\n",
    "\n",
    "co = select(CO, -c(YEAR, STATEFIP, RACED, CLASSWKRD, EDUCD, POVERTY))\n",
    "head(co)\n",
    "\n"
   ]
  },
  {
   "cell_type": "code",
   "execution_count": null,
   "id": "dd70a140",
   "metadata": {
    "scrolled": false
   },
   "outputs": [],
   "source": [
    "# Exploratory Data Analysis\n",
    "\n",
    "# Histograms for numeric values\n",
    "age_hist <- ggplot(co, aes(x = co$AGE)) +\n",
    "    geom_histogram(color=\"grey3\", alpha=0.6, stat = 'count') +\n",
    "    theme(axis.text.x = element_text(angle = 90, vjust = 0.5)) + \n",
    "    scale_fill_manual(values=c(\"#69b3a2\")) + xlab(\"Age\") + \n",
    "    ylab(\"Frequency\") + labs(fill = \"\") + ggtitle(\"\") + theme(legend.position = \"none\")\n",
    "\n",
    "famsize_hist <- ggplot(co, aes(x = co$FAMSIZE)) +\n",
    "    geom_histogram(color=\"grey3\", alpha=0.6, stat = 'count') +\n",
    "    theme(axis.text.x = element_text(angle = 90, vjust = 0.5)) + \n",
    "    scale_fill_manual(values=c(\"#69b3a2\")) + xlab(\"Family Size\") + \n",
    "    ylab(\"Frequency\") + labs(fill = \"\") + ggtitle(\"\") + theme(legend.position = \"none\")\n",
    "\n",
    "hours_hist <- ggplot(co, aes(x = co$UHRSWORK)) +\n",
    "    geom_histogram(color=\"grey3\", alpha=0.6, stat = 'count') +\n",
    "    theme(axis.text.x = element_text(angle = 90, vjust = 0.5)) + \n",
    "    scale_fill_manual(values=c(\"#69b3a2\")) + xlab(\"Hours Worked per Week\") + \n",
    "    ylab(\"Frequency\") + labs(fill = \"\") + ggtitle(\"\") + theme(legend.position = \"none\")\n",
    "\n",
    "edu_hist <- ggplot(co, aes(x = co$EDUC)) +\n",
    "    geom_histogram(color=\"grey3\", alpha=0.6, stat = 'count') +\n",
    "    theme(axis.text.x = element_text(angle = 90, vjust = 0.5)) + \n",
    "    scale_fill_manual(values=c(\"#69b3a2\")) + xlab(\"Educational Attainment\") + \n",
    "    ylab(\"Frequency\") + labs(fill = \"\") + ggtitle(\"\") + theme(legend.position = \"none\")\n",
    "\n",
    "inc_hist <- ggplot(co, aes(x = co$INCWAGE)) +\n",
    "    geom_histogram(color=\"grey3\", alpha=0.6, stat = 'count') +\n",
    "    theme(axis.text.x = element_text(angle = 90, vjust = 0.5)) + \n",
    "    scale_fill_manual(values=c(\"#69b3a2\")) + xlab(\"Total Individual Income/Wage\") + \n",
    "    ylab(\"Frequency\") + labs(fill = \"\") + ggtitle(\"\") + theme(legend.position = \"none\")\n",
    "\n",
    "occ_hist <- ggplot(co, aes(x = co$OCCSCORE)) +\n",
    "    geom_histogram(color=\"grey3\", alpha=0.6, stat = 'count') +\n",
    "    theme(axis.text.x = element_text(angle = 90, vjust = 0.5)) + \n",
    "    scale_fill_manual(values=c(\"#69b3a2\")) + xlab(\"Occupational Score\") + \n",
    "    ylab(\"Frequency\") + labs(fill = \"\") + ggtitle(\"\") + theme(legend.position = \"none\")\n",
    "\n",
    "grid.arrange(inc_hist, occ_hist, age_hist, famsize_hist, hours_hist, edu_hist, nrow=3)"
   ]
  },
  {
   "cell_type": "code",
   "execution_count": null,
   "id": "36ee9f8c",
   "metadata": {
    "scrolled": false
   },
   "outputs": [],
   "source": [
    "# FAMSIZE, AGE, MARRNO, UHRSWORK, INCWAGE, OCCSCORE are continuous\n",
    "lm_cont = lm(INCWAGE ~ AGE , co)\n",
    "\n",
    "p1 = ggplot(co, aes(y = INCWAGE, x = AGE)) + \n",
    "    geom_point(alpha = 0.3) + \n",
    "    geom_smooth(se = F, col = \"#CFB87C\") + \n",
    "    geom_abline(intercept = 0, slope = 1) + \n",
    "    xlab(\"AGE\") + \n",
    "    ylab(\"Income\") + \n",
    "    theme_bw()\n",
    "\n",
    "p2 = ggplot(co, aes(y = INCWAGE, x = UHRSWORK)) + \n",
    "    geom_point(alpha = 0.3) + \n",
    "    geom_smooth(se = F, col = \"#CFB87C\") + \n",
    "    geom_abline(intercept = 0, slope = 1, col = 'grey') + \n",
    "    xlab(\"AGE\") + \n",
    "    ylab(\"Income\") + \n",
    "    theme_bw()\n",
    "grid.arrange(p1, p2, nrow=1)"
   ]
  },
  {
   "cell_type": "code",
   "execution_count": null,
   "id": "99b15451",
   "metadata": {},
   "outputs": [],
   "source": [
    "\n",
    "\n",
    "# corr = cor(model.matrix(lmod_co)[,-1])\n",
    "\n",
    "n = dim(co)[1]; \n",
    "regCO = regsubsets(INCWAGE ~ ., data = co, really.big=T)\n",
    "rs = summary(regCO)\n",
    "rs$which\n",
    "\n",
    "AIC = 2*(2:9) + n*log(rs$rss/n)\n",
    "plot(AIC ~ I(1:8), xlab = 'number of predictors', ylab = 'AIC', main = \"AIC Graph\")\n",
    "\n",
    "# Best predictors in terms of AIC\n",
    "# 8 predictors - SEX, AGE, MARRNO, EDUC, CLASSWKR, UHRSWORK, OCCSCORE, DIFFSENS\n",
    "# 7 predictors - SEX, AGE, EDUC, CLASSWKR, UHRSWORK, OCCSCORE, DIFFSENS\n",
    "# 6 predictors - AGE, EDUC, CLASSWKR, UHRSWORK, OCCSCORE, DIFFSENS\n",
    "\n",
    "BIC = log(n)*(2:9) + n*log(rs$rss/n) \n",
    "plot(BIC ~ I(1:8), xlab = \"number of predictors\", ylab = \"BIC\", main = \"BIC\")\n",
    "\n",
    "# Best predictors in terms of BIC\n",
    "# 8 predictors - SEX, AGE, MARRNO, EDUC, CLASSWKR, UHRSWORK, OCCSCORE, DIFFSENS\n",
    "# 7 predictors - SEX, AGE, EDUC, CLASSWKR, UHRSWORK, OCCSCORE, DIFFSENS\n",
    "# 6 predictors - AGE, EDUC, CLASSWKR, UHRSWORK, OCCSCORE, DIFFSENS\n",
    "\n"
   ]
  },
  {
   "cell_type": "code",
   "execution_count": null,
   "id": "1dc1a38f",
   "metadata": {},
   "outputs": [],
   "source": [
    "lm_co = lm(INCWAGE ~ SEX+ AGE + MARRNO + EDUC + CLASSWKR + UHRSWORK + OCCSCORE + DIFFSENS + RACE, co)\n",
    "co_diag = data.frame(yhat = fitted(lm_cont), r = resid(lm_cont), y = co$INCWAGE)\n",
    "\n",
    "options(repr.plot.width = 6, repr.plot.width = 6)\n",
    "g1 = ggplot(co_diag, aes(x = y, y = yhat)) + \n",
    "    geom_point(alpha =0.5, col = 'deepskyblue') + \n",
    "    geom_smooth(se = F, col = \"#CFB87C\") + \n",
    "    geom_abline(intercept = 0, slope = 1) + \n",
    "    xlab(\"AGE\") + \n",
    "    ylab(\"Income\") + \n",
    "    theme_bw()\n",
    "\n",
    "g2 = ggplot(co_diag, aes(x = yhat, y = r)) + \n",
    "    geom_point(alpha = 0.5) + \n",
    "    geom_smooth(se = F, col = \"#CFB87C\") + \n",
    "    xlab(\"Fitted Values\") + \n",
    "    ylab(\"Residuals\")\n",
    "\n",
    "grid.arrange(g1, g2, nrow=2)"
   ]
  },
  {
   "cell_type": "code",
   "execution_count": null,
   "id": "88f67559",
   "metadata": {},
   "outputs": [],
   "source": [
    "vif(lm_co)\n",
    "kappa(lm_co)\n",
    "cor(model.matrix(lm_co)[,-1])"
   ]
  },
  {
   "cell_type": "markdown",
   "id": "f5ba04c8",
   "metadata": {},
   "source": [
    "$$Classwork \\Rightarrow Age \\\\\n",
    "Age \\Rightarrow Married \\\\ \n",
    "Works wage \\Rightarrow Self Employed \\\\\n",
    "UhrsWork \\Rightarrow Work wage \\\\\n",
    "Occscore \\Rightarrow Work wages \\\\ \n",
    "Age \\Rightarrow UhrsWork \\\\ \n",
    "Occsocre \\Rightarrow Uhrswork \\\\\n",
    "Race \\Rightarrow Race$$"
   ]
  },
  {
   "cell_type": "code",
   "execution_count": null,
   "id": "da3bff16",
   "metadata": {},
   "outputs": [],
   "source": []
  }
 ],
 "metadata": {
  "kernelspec": {
   "display_name": "R",
   "language": "R",
   "name": "ir"
  },
  "language_info": {
   "codemirror_mode": "r",
   "file_extension": ".r",
   "mimetype": "text/x-r-source",
   "name": "R",
   "pygments_lexer": "r",
   "version": "3.6.1"
  }
 },
 "nbformat": 4,
 "nbformat_minor": 5
}
